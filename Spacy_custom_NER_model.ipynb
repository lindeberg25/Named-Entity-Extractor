{
  "nbformat": 4,
  "nbformat_minor": 0,
  "metadata": {
    "colab": {
      "name": "Spacy custom NER model.ipynb",
      "provenance": [],
      "collapsed_sections": []
    },
    "kernelspec": {
      "name": "python3",
      "display_name": "Python 3"
    }
  },
  "cells": [
    {
      "cell_type": "markdown",
      "metadata": {
        "id": "bdSzZOGxejG1",
        "colab_type": "text"
      },
      "source": [
        "\n",
        "Mount google drive"
      ]
    },
    {
      "cell_type": "code",
      "metadata": {
        "id": "8GtODY2VehRG",
        "colab_type": "code",
        "colab": {
          "base_uri": "https://localhost:8080/",
          "height": 122
        },
        "outputId": "7ae48c7a-744f-459a-a444-fc318923484c"
      },
      "source": [
        "from google.colab import drive\n",
        "drive.mount('/content/drive')"
      ],
      "execution_count": 1,
      "outputs": [
        {
          "output_type": "stream",
          "text": [
            "Go to this URL in a browser: https://accounts.google.com/o/oauth2/auth?client_id=947318989803-6bn6qk8qdgf4n4g3pfee6491hc0brc4i.apps.googleusercontent.com&redirect_uri=urn%3aietf%3awg%3aoauth%3a2.0%3aoob&response_type=code&scope=email%20https%3a%2f%2fwww.googleapis.com%2fauth%2fdocs.test%20https%3a%2f%2fwww.googleapis.com%2fauth%2fdrive%20https%3a%2f%2fwww.googleapis.com%2fauth%2fdrive.photos.readonly%20https%3a%2f%2fwww.googleapis.com%2fauth%2fpeopleapi.readonly\n",
            "\n",
            "Enter your authorization code:\n",
            "··········\n",
            "Mounted at /content/drive\n"
          ],
          "name": "stdout"
        }
      ]
    },
    {
      "cell_type": "markdown",
      "metadata": {
        "id": "uKrU8_zZeq15",
        "colab_type": "text"
      },
      "source": [
        "Create custom spacy NER model and save it in Google drive"
      ]
    },
    {
      "cell_type": "code",
      "metadata": {
        "id": "aQt8RSHvevZZ",
        "colab_type": "code",
        "colab": {
          "base_uri": "https://localhost:8080/",
          "height": 34
        },
        "outputId": "e0db80bf-ea96-47dd-9850-287412b15bd0"
      },
      "source": [
        "import spacy\n",
        "import random\n",
        "import spacy.cli\n",
        "\n",
        "\n",
        "#SPECIFY THE NER TRAINING DATA\n",
        "TRAIN_DATA = [\n",
        "(\"ROSELENA SILVA BARBOSA, matricula no 127.058-3, na Carreira de Assistencia Publica a Saude,\",{\"entities\":[(0,22,\"ação\"),(37,46,\"matrícula\")]}),\n",
        "(\"CONCEDER APOSENTADORIA, nos termos do artigo 3o, incisos I, II, III, paragrafo unico da Emenda\",{\"entities\":[(0,22,\"ação\")]}),\n",
        "(\"bem como as vantagens do art. 5 da Lei 4.584/2011, a MARIA DA GUIA SANTANA DE SOUZA,\",{\"entities\":[(53,83,\"pessoa\")]}),\n",
        "(\"CONCEDER APOSENTADORIA, nos termos do artigo 3o, incisos I, II, III, paragrafo unico da Emenda\",{\"entities\":[(0,22,\"ação\")]}),\n",
        "(\"PAULO ROBERTO MARANHAS MEYER, matricula n 126.985-2, na Carreira Medica, no cargo de\",{\"entities\":[(0,28,\"pessoa\"),(42,51,\"matrícula\")]}),\n",
        "(\"CONCEDER APOSENTADORIA, nos termos do artigo 3o, incisos I, II, III, paragrafo unico da Emenda\",{\"entities\":[(0,22,\"ação\")]}),\n",
        "(\"MARILDA FERNANDES DE CASTRO FREITAS, matricula no 128.995-0, na Carreira de Cirurgiao-\",{\"entities\":[(0,35,\"pessoa\"),(50,59,\"matrícula\")]}),\n",
        "(\"CONCEDER APOSENTADORIA, nos termos do artigo 3o, incisos I, II, III, paragrafo unico da Emenda\",{\"entities\":[(0,22,\"ação\")]}),\n",
        "(\"EXONERAR o Agente de Policia DOUGLAS DUARTE MONIZ, matricula 231.023-6, SIAPE 2152643, do Cargo em Comissao, Simbolo DFG-10, de Chefe da Secao de Investigacao de Crimes Violentos, da 24a Delegacia de Policia, do Departamento de Policia Circunscricional, da Policia Civil do Distrito Federal, a contar de 20 de novembro de 2019. \",{\"entities\":[(0,8,\"ação\"),(29,49,\"pessoa\"),(61,70,\"matrícula\")]}),\n",
        "(\"EXONERAR, por motivo de Aposentadoria, o Agente de Policia VALDELON BERSAN DOS REIS, matricula 36.519-X, SIAPE 1410300, do Cargo em Comissao, Simbolo DFG-10, de Chefe da Secao de Policia Comunitaria, de Atendimento a Idosos e a Pessoas com Necessidades Especiais e de Combate ao Desrespeito as Diferencas, da 1a Delegacia de Policia, do Departamento de Policia Circunscricional, da Policia Civil do Distrito Federal, a contar de 19 de novembro de 2019. \",{\"entities\":[(0,8,\"ação\"),(59,83,\"pessoa\"),(95,103,\"matrícula\")]}),\n",
        "(\"EXONERAR, por motivo de Aposentadoria, o Agente de Policia SERGIO DA SILVA MELLO, matricula 31.669-5, SIAPE 1409071, do Cargo em Comissao, Simbolo DFG-08, de Chefe de Plantao, do Departamento de Policia Circunscricional, da Policia Civil do Distrito Federal, a contar de 26 de novembro de 2019. \",{\"entities\":[(0,8,\"ação\"),(59,80,\"pessoa\"),(92,100,\"matrícula\")]}),\n",
        "(\"EXONERAR o Agente de Policia ANTONIO TAVERNARD JUNIOR, matricula 57.387-6, SIAPE 1411096, do Cargo em Comissao, Simbolo DFG-08, de Chefe de Plantao, do Departamento de Policia Circunscricional, da Policia Civil do Distrito Federal. \",{\"entities\":[(0,8,\"ação\"),(29,53,\"pessoa\"),(65,73,\"matrícula\")]}),\n",
        "(\"EXONERAR, por motivo de Aposentadoria, o Agente de Policia ALVARO DA COSTA ARAUJO JUNIOR, matricula 58.193-3, SIAPE 1411738, do Cargo em Comissao, Simbolo DFG-08, de Chefe de Plantao, do Departamento de Policia Circunscricional, da Policia Civil do Distrito Federal, a contar de 26 de novembro de 2019. \",{\"entities\":[(0,8,\"ação\"),(59,88,\"pessoa\"),(100,108,\"matrícula\")]}),\n",
        "(\"EXONERAR a Escriva de Policia PATRICIA NASCIMENTO MARTINS, matricula 180.057-4, SIAPE 1706513, do Cargo em Comissao, Simbolo DFG-08, de Escrivao Chefe de Plantao, do Departamento de Policia Circunscricional, da Policia Civil do Distrito Federal, a contar de 18 de novembro de 2019. \",{\"entities\":[(0,8,\"ação\"),(30,57,\"pessoa\"),(69,78,\"matrícula\")]}),\n",
        "(\"EXONERAR o Delegado de Policia BRUNO GOMES VIEIRA ROCHA, matricula 240.579-2, SIAPE 3050030, do Cargo em Comissao, Simbolo DFG-10, de Coordenador de Plantao, do Departamento de Policia Circunscricional, da Policia Civil do Distrito Federal. \",{\"entities\":[(0,8,\"ação\"),(31,55,\"pessoa\"),(67,76,\"matrícula\")]}),\n",
        "(\"EXONERAR ADRIANA CESARIO DA CONCEICAO do Cargo de Natureza Especial, Simbolo CNE-07, de Diretor, da Diretoria de Servicos Administrativos, da Subsecretaria de Administracao Geral, da Secretaria de Estado de Educacao do Distrito Federal. \",{\"entities\":[(0,8,\"ação\"),(9,37,\"pessoa\")]}),\n",
        "(\"EXONERAR, por estar sendo nomeado para outro cargo, HELDER MAGELA MUNDIM NETO , matricula 40.456-X, do Cargo em Comissao, Simbolo DFG-14, de Gerente, da Gerencia de Manutencao de Servicos Administrativos, da Diretoria de Servicos Administrativos, da Subsecretaria de Administracao Geral, da Secretaria de Estado de Educacao do Distrito Federal. \",{\"entities\":[(0,8,\"ação\"),(52,77,\"pessoa\"),(90,98,\"matrícula\")]}),\n",
        "(\"NOMEAR CHARLES FERREIRA DE SOUSA para exercer o Cargo em Comissao, Simbolo DFG-12,\",{\"entities\":[(0,6,\"ação\"),(7,32,\"pessoa\")]}),\n",
        "(\"NOMEAR MONICA GLACIELE SANTOS CORIOLANO DA MOTA para exercer o Cargo em\",{\"entities\":[(0,6,\"ação\"),(7,47,\"pessoa\")]}),\n",
        "(\"NOMEAR MATHEUS DE COSTA FARAGE FONSECA para exercer o Cargo em Comissao, Simbolo\",{\"entities\":[(7,38,\"pessoa\"),(0,6,\"ação\")]}),\n",
        "(\"NOMEAR KELSON FERREIRA MACHADO para exercer o Cargo em Comissao, Simbolo DFG-12,\",{\"entities\":[(0,6,\"ação\"),(7,30,\"pessoa\")]}),\n",
        "(\"NOMEAR CHARLES FERREIRA DE SOUSA para exercer o Cargo em Comissao, Simbolo DFG-12,\",{\"entities\":[(0,6,\"ação\"),(7,32,\"pessoa\")]}),\n",
        "(\"NOMEAR HUGO RAFAEL COSTA SUARES para exercer o Cargo em Comissao, Simbolo DFG-17,\",{\"entities\":[(0,6,\"ação\"),(7,31,\"pessoa\")]}),\n",
        "(\"NOMEAR MONICA GLACIELE SANTOS CORIOLANO DA MOTA para exercer o Cargo em\",{\"entities\":[(0,6,\"ação\"),(7,40,\"pessoa\")]})]\n",
        "\n",
        "nlp = spacy.blank('pt')\n",
        "ner = nlp.create_pipe(\"ner\")\n",
        "\n",
        "nlp.add_pipe(ner, last=True)\n",
        "\n",
        "#ADD THE CUSTOM NAMED ENTITIES HERE\n",
        "nlp.entity.add_label('ação')\n",
        "nlp.entity.add_label('pessoa')\n",
        "nlp.entity.add_label('matrícula')\n",
        "\n",
        "\n",
        "nlp.vocab.vectors.name = 'spacy_pretrained_vectors'\n",
        "optimizer = nlp.begin_training()\n",
        "for i in range(20):\n",
        "    random.shuffle(TRAIN_DATA)\n",
        "    for text, annotations in TRAIN_DATA:\n",
        "        nlp.update([text], [annotations], sgd=optimizer)\n",
        "#SAVE THE CUSTOM NER MODEL TO GOOGLE DRIVE\n",
        "nlp.to_disk(\"/content/drive/My Drive/custom_ner_model\")\n",
        "print(\"Model saved to Google drive\")"
      ],
      "execution_count": 18,
      "outputs": [
        {
          "output_type": "stream",
          "text": [
            "Model saved to Google drive\n"
          ],
          "name": "stdout"
        }
      ]
    },
    {
      "cell_type": "markdown",
      "metadata": {
        "id": "ne47T4eDe1d4",
        "colab_type": "text"
      },
      "source": [
        "Load the model from Google drive and test it with sample input"
      ]
    },
    {
      "cell_type": "code",
      "metadata": {
        "id": "iXiwkwYOe63V",
        "colab_type": "code",
        "colab": {
          "base_uri": "https://localhost:8080/",
          "height": 68
        },
        "outputId": "dcd87755-4193-43b2-d22c-f85f45f9456b"
      },
      "source": [
        "#LOAD THE CUSTOM MODEL FROM GOOGLE DRIVE\n",
        "nlp2 = spacy.load(\"/content/drive/My Drive/custom_ner_model\")\n",
        "doc2 = nlp2(\"CONCEDER APOSENTADORIA, nos termos do artigo 40,  1o, inciso III, alinea , e  3o, 8o e17 da Constituicao da Republica Federativa do Brasil, com redacao da Emenda Constitucional no 41/2003, e artigos 46 e 51 da Lei Complementar no 769/2008, a NANCY MARIA GOMES, matricula no 172.643-9, na Carreira de Assistencia Publica a Saude\")\n",
        "for ent in doc2.ents:\n",
        "    print(ent.label_, ent.text)"
      ],
      "execution_count": 14,
      "outputs": [
        {
          "output_type": "stream",
          "text": [
            "ação CONCEDER APOSENTADORIA\n",
            "pessoa NANCY MARIA GOMES\n",
            "matrícula 172.643-9\n"
          ],
          "name": "stdout"
        }
      ]
    },
    {
      "cell_type": "code",
      "metadata": {
        "id": "euBe0hZhfWCh",
        "colab_type": "code",
        "colab": {}
      },
      "source": [
        ""
      ],
      "execution_count": null,
      "outputs": []
    }
  ]
}